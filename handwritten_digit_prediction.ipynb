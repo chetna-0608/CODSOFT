{
  "nbformat": 4,
  "nbformat_minor": 0,
  "metadata": {
    "colab": {
      "provenance": [],
      "authorship_tag": "ABX9TyPt/0m1CMD+gbX9SocbyhVb",
      "include_colab_link": true
    },
    "kernelspec": {
      "name": "python3",
      "display_name": "Python 3"
    },
    "language_info": {
      "name": "python"
    }
  },
  "cells": [
    {
      "cell_type": "markdown",
      "metadata": {
        "id": "view-in-github",
        "colab_type": "text"
      },
      "source": [
        "<a href=\"https://colab.research.google.com/github/chetna-0608/CODSOFT/blob/main/handwritten_digit_prediction.ipynb\" target=\"_parent\"><img src=\"https://colab.research.google.com/assets/colab-badge.svg\" alt=\"Open In Colab\"/></a>"
      ]
    },
    {
      "cell_type": "markdown",
      "source": [
        "title of the project: hand written digit recognition\n"
      ],
      "metadata": {
        "id": "P8RtSTyftbld"
      }
    },
    {
      "cell_type": "markdown",
      "source": [
        "OBJECTIVE:\n",
        "Digit recognition using SVM\n"
      ],
      "metadata": {
        "id": "QzzVX89Ot5s7"
      }
    },
    {
      "cell_type": "markdown",
      "source": [
        "DATA SOURCE:\n",
        "captured images from screen"
      ],
      "metadata": {
        "id": "6EAB611euQM_"
      }
    },
    {
      "cell_type": "markdown",
      "source": [
        "**IMPORT LIBRARY**"
      ],
      "metadata": {
        "id": "gwtxNwmRubbC"
      }
    },
    {
      "cell_type": "code",
      "source": [
        "import pyscreenshot as ImageGrab\n",
        "import time\n",
        "import cv2\n",
        "import csv\n",
        "import glob\n",
        "import os\n",
        "import pandas as pd\n",
        "from sklearn.utils import shuffle\n",
        "from sklearn.svm import SVC\n",
        "from sklearn.model_selection import train_test_split\n",
        "from sklearn import metrics\n",
        "import joblib\n",
        "import numpy as np\n",
        "import matplotlib.pyplot as plt\n",
        "\n",
        "\n"
      ],
      "metadata": {
        "id": "sQQrqjmKuDcZ"
      },
      "execution_count": null,
      "outputs": []
    },
    {
      "cell_type": "markdown",
      "source": [
        "**IMPORT DATA**"
      ],
      "metadata": {
        "id": "bCkDUaLDuhvT"
      }
    },
    {
      "cell_type": "code",
      "source": [
        "images_folder = \"C:\\\\Users\\\\Hp\\\\Downloads\\\\ybi\\\\captured_img\\\\\"\n",
        "\n",
        "for i in range(0, 10):\n",
        "    time.sleep(4)\n",
        "    im = ImageGrab.grab(bbox=(160, 240, 622, 900))  # x1, y1, x2, y2\n",
        "    print(\"saved......\", i)\n",
        "    im.save(images_folder + str(i) + '.png')\n",
        "    print(\"clear screen now and redraw now........\")"
      ],
      "metadata": {
        "id": "Su8V7Ntdu3Ss"
      },
      "execution_count": null,
      "outputs": []
    },
    {
      "cell_type": "markdown",
      "source": [
        "**DESCRIBE DATA**"
      ],
      "metadata": {
        "id": "VbtS6lqzu8_j"
      }
    },
    {
      "cell_type": "code",
      "source": [
        "\n",
        "\n",
        "# Create header for the CSV file\n",
        "header = [\"label\"]\n",
        "for i in range(0, 784):\n",
        "    header.append(\"pixel\" + str(i))\n",
        "\n",
        "# Open the CSV file once and write the header\n",
        "with open('dataset.csv', 'w', newline='') as f:\n",
        "    writer = csv.writer(f)\n",
        "    writer.writerow(header)\n",
        "\n",
        "# Process images from all subfolders\n",
        "base_folder = \"C:\\\\Users\\\\Hp\\\\Downloads\\\\ybi\\\\captured_img\\\\\"\n",
        "\n",
        "for label in range(10):  # Assuming folders are named 0 to 9\n",
        "    folder_path = os.path.join(base_folder, str(label))\n",
        "    dirList = glob.glob(folder_path + \"/*.png\")\n",
        "\n",
        "    # Process each image in the folder\n",
        "    for img_path in dirList:\n",
        "        im = cv2.imread(img_path)\n",
        "        if im is None:\n",
        "            print(f\"Error reading image {img_path}\")\n",
        "            continue\n",
        "\n",
        "        im_gray = cv2.cvtColor(im, cv2.COLOR_BGR2GRAY)\n",
        "        im_gray = cv2.GaussianBlur(im_gray, (15, 15), 0)\n",
        "        ret, im_th = cv2.threshold(im_gray, 100, 255, cv2.THRESH_BINARY)\n",
        "        roi = cv2.resize(im_th, (28, 28), interpolation=cv2.INTER_AREA)\n",
        "\n",
        "        data = [label]\n",
        "        rows, cols = roi.shape\n",
        "\n",
        "        # Fill the data array with pixels one by one\n",
        "        for i in range(rows):\n",
        "            for j in range(cols):\n",
        "                k = roi[i, j]\n",
        "                if k > 100:\n",
        "                    k = 1\n",
        "                else:\n",
        "                    k = 0\n",
        "                data.append(k)\n",
        "\n",
        "        # Append the data row to the CSV file\n",
        "        with open('dataset.csv', 'a', newline='') as f:\n",
        "            writer = csv.writer(f)\n",
        "            writer.writerow(data)\n"
      ],
      "metadata": {
        "id": "c1Um1kNLvDfM"
      },
      "execution_count": null,
      "outputs": []
    },
    {
      "cell_type": "markdown",
      "source": [
        "**DATA VISUALIZAION**"
      ],
      "metadata": {
        "id": "xrsA3xW7vqy6"
      }
    },
    {
      "cell_type": "code",
      "source": [
        "\n",
        "import pandas as pd\n",
        "from sklearn.utils import shuffle\n",
        "from sklearn.svm import SVC\n",
        "import joblib\n",
        "import os\n",
        "\n",
        "# Read and shuffle the dataset\n",
        "data = pd.read_csv('dataset.csv')\n",
        "data = shuffle(data)\n",
        "print(f\"Number of rows in the dataset: {len(data)}\")\n",
        "print(data)"
      ],
      "metadata": {
        "id": "1__jlTpLvyIM"
      },
      "execution_count": null,
      "outputs": []
    },
    {
      "cell_type": "markdown",
      "source": [
        "**DATA PREPROCESSING**: Grayscale conversion, Gaussian blur, thresholding, resizing"
      ],
      "metadata": {
        "id": "paJasyx9v-Xu"
      }
    },
    {
      "cell_type": "markdown",
      "source": [
        "**Define Target Variable (y) and Feature Variables (X)**"
      ],
      "metadata": {
        "id": "rfY7BqOFwF9y"
      }
    },
    {
      "cell_type": "code",
      "source": [
        "data = pd.read_csv('dataset.csv')\n",
        "data = shuffle(data)\n",
        "X = data.drop([\"label\"], axis=1)\n",
        "Y = data[\"label\"]\n"
      ],
      "metadata": {
        "id": "yXzXutFlwQJc"
      },
      "execution_count": null,
      "outputs": []
    },
    {
      "cell_type": "markdown",
      "source": [
        "**TRAIN TEST SPLIT**"
      ],
      "metadata": {
        "id": "pMu5Ej2Pw9Oa"
      }
    },
    {
      "cell_type": "code",
      "source": [
        "from sklearn.model_selection import train_test_split\n",
        "train_x, test_x, train_y, test_y = train_test_split(X, Y, test_size=0.2, random_state=42)\n"
      ],
      "metadata": {
        "id": "yBUh4nyCxCkc"
      },
      "execution_count": null,
      "outputs": []
    },
    {
      "cell_type": "markdown",
      "source": [
        "**Modeling**"
      ],
      "metadata": {
        "id": "NUJSA7PAxGH5"
      }
    },
    {
      "cell_type": "code",
      "source": [
        "classifier = SVC(kernel=\"linear\", random_state=6)\n",
        "classifier.fit(train_x, train_y)\n",
        "# Create the model directory inside the ybi folder if it doesn't exist\n",
        "ybi_dir = \"C:\\\\Users\\\\Hp\\\\Downloads\\\\ybi\"\n",
        "model_dir = os.path.join(ybi_dir, \"model\")\n",
        "os.makedirs(model_dir, exist_ok=True)\n",
        "\n",
        "# Save the model\n",
        "model_path = os.path.join(model_dir, \"digit_recognizer\")\n",
        "joblib.dump(classifier, model_path)\n"
      ],
      "metadata": {
        "id": "JRLXUasoxMTl"
      },
      "execution_count": null,
      "outputs": []
    },
    {
      "cell_type": "markdown",
      "source": [
        "**Model Evaluation**"
      ],
      "metadata": {
        "id": "dCtiht82xR45"
      }
    },
    {
      "cell_type": "code",
      "source": [
        "prediction = classifier.predict(test_x)\n",
        "accuracy = metrics.accuracy_score(test_y, prediction)\n",
        "print(\"Accuracy = \", accuracy)"
      ],
      "metadata": {
        "id": "DBEEceXPxaZY"
      },
      "execution_count": null,
      "outputs": []
    },
    {
      "cell_type": "markdown",
      "source": [
        "**Prediction:**\n",
        " Using SVM model to predict digits from screen capture"
      ],
      "metadata": {
        "id": "67FI-h_Axbv4"
      }
    },
    {
      "cell_type": "code",
      "source": [
        "model_path = \"C:/Users/Hp/Downloads/ybi/model/digit_recognizer\"\n",
        "if os.path.exists(model_path):\n",
        "    model = joblib.load(model_path)\n",
        "else:\n",
        "    print(f\"Error: Model file '{model_path}' not found.\")\n",
        "    exit()\n",
        "\n",
        "image_folder = \"C:/Users/Hp/img/\"\n",
        "os.makedirs(image_folder, exist_ok=True)\n",
        "\n",
        "img = ImageGrab.grab(bbox=(60, 170, 400, 500))\n",
        "img_path = image_folder + \"img.png\"\n",
        "img.save(img_path)\n",
        "\n",
        "im = cv2.imread(img_path)\n",
        "im_gray = cv2.cvtColor(im, cv2.COLOR_BGR2GRAY)\n",
        "im_gray = cv2.GaussianBlur(im_gray, (15, 15), 0)\n",
        "ret, im_th = cv2.threshold(im_gray, 100, 255, cv2.THRESH_BINARY)\n",
        "roi = cv2.resize(im_th, (28, 28), interpolation=cv2.INTER_AREA)\n",
        "\n",
        "# Prepare the input data for prediction\n",
        "X_pred = []\n",
        "rows, cols = roi.shape\n",
        "for i in range(rows):\n",
        "    for j in range(cols):\n",
        "        k = roi[i, j]\n",
        "        if k > 100:\n",
        "            k = 1\n",
        "        else:\n",
        "            k = 0\n",
        "        X_pred.append(k)\n",
        "\n",
        "X_pred = np.array(X_pred).reshape(1, -1)\n",
        "predictions = model.predict(X_pred)\n",
        "print(\"Prediction:\", predictions[0])\n",
        "\n"
      ],
      "metadata": {
        "id": "8FT-of-KxjJE"
      },
      "execution_count": null,
      "outputs": []
    },
    {
      "cell_type": "markdown",
      "source": [
        "**EXPLANATION:**\n",
        "\n",
        "The model predicts digits based on pixel data extracted from screenshots. The SVM classifier is trained on preprocessed image data and evaluated for accuracy. Captured screenshots are processed to extract features, predict digits, and display results."
      ],
      "metadata": {
        "id": "0uktwGB8xsuc"
      }
    },
    {
      "cell_type": "code",
      "source": [],
      "metadata": {
        "id": "fkVVylGsxwIB"
      },
      "execution_count": null,
      "outputs": []
    }
  ]
}